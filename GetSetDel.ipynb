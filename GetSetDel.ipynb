{
 "cells": [
  {
   "cell_type": "markdown",
   "id": "899eeee1",
   "metadata": {},
   "source": [
    "Decorators; Getters; Setters and Deleters.\n",
    "---\n",
    "\n",
    "Nathaniel Poland, January 6 2022\n",
    "\n",
    "[https://github.com/np1919](https://github.com/np1919)"
   ]
  },
  {
   "cell_type": "markdown",
   "id": "c53b964c",
   "metadata": {},
   "source": [
    "From\n",
    "[https://www.youtube.com/watch?v=jCzT9XFZ5bw](https://www.youtube.com/watch?v=jCzT9XFZ5bw)\n",
    "\n",
    "Corey Schafer \n",
    "\n",
    "**Python OOP Tutorial 6: Property Decorators - Getters, Setters, and Deleters**\n"
   ]
  },
  {
   "cell_type": "markdown",
   "id": "3f204496",
   "metadata": {},
   "source": [
    "---"
   ]
  },
  {
   "cell_type": "markdown",
   "id": "d62f0c30",
   "metadata": {},
   "source": [
    "Defining a class\n",
    "---"
   ]
  },
  {
   "cell_type": "markdown",
   "id": "b06dc6ca",
   "metadata": {},
   "source": [
    "For the purposes of understanding class getters, setters, and deleters in Python."
   ]
  },
  {
   "cell_type": "code",
   "execution_count": 7,
   "id": "fc47d9f3",
   "metadata": {},
   "outputs": [],
   "source": [
    "# initial/basic 'Employee' class definition...\n",
    "\n",
    "class Employee:\n",
    "   \n",
    "\n",
    "     # this class has two parameters in its __init__, for which 2 arguments must be passed to create an instance of the class:\n",
    "    # first and last.\n",
    "    def __init__(self, first, last):\n",
    "        self.first = first\n",
    "        self.last = last  \n",
    "        # the attribute 'email', is defined during the __init__ call and will not update automatically.\n",
    "        self.email = self.first + '.' + self.last + '@email.com'\n",
    "        \n",
    "     # it has a 'fullname' function defined, which concatenates the two attributes into one string when called (self-updating).\n",
    "    def fullname(self):\n",
    "        return f'{self.first}, {self.last}'  "
   ]
  },
  {
   "cell_type": "markdown",
   "id": "42ae17ba",
   "metadata": {},
   "source": [
    "This function, `fullname`, acts as a 'getter'. It returns information about the class, when called.\n",
    "\n",
    "The attribute `self.email` is calculated during the `\\_\\_init__()` call, and has a static value -- it won't update itself to reflect any changes to it's underlying component arguments (ie. `self.first` and `self.last`)."
   ]
  },
  {
   "cell_type": "markdown",
   "id": "7cf22e5d",
   "metadata": {},
   "source": [
    "Let's define a simple function, `check()`, to print a readout about our class;\n",
    "\n",
    "- the first name\n",
    "- the last name\n",
    "- the email\n",
    "- the fullname\n",
    "\n",
    "and then create our first instance of Employee.\n"
   ]
  },
  {
   "cell_type": "code",
   "execution_count": 9,
   "id": "4dce9770",
   "metadata": {
    "code_folding": []
   },
   "outputs": [],
   "source": [
    "# defining check()\n",
    "def check(employee):\n",
    "    print(f'first : {employee.first}')\n",
    "    print(f'last : {employee.last}')\n",
    "    print(f'email : {employee.email}')\n",
    "    print(f'fullname : {employee.fullname()}') # notice this is a method call -- a function defined in a class, which calls 'self' as its first argument."
   ]
  },
  {
   "cell_type": "code",
   "execution_count": 10,
   "id": "bd2cd082",
   "metadata": {
    "code_folding": []
   },
   "outputs": [
    {
     "name": "stdout",
     "output_type": "stream",
     "text": [
      "first : John\n",
      "last : Smith\n",
      "email : John.Smith@email.com\n",
      "fullname : John, Smith\n"
     ]
    }
   ],
   "source": [
    "# create an instance of Employee\n",
    "emp_1 = Employee('John', 'Smith')\n",
    "check(emp_1)"
   ]
  },
  {
   "cell_type": "markdown",
   "id": "6cc1b0aa",
   "metadata": {},
   "source": [
    "Changing a class attribute for a bound instance\n",
    "---\n",
    "\n",
    "If we change something about our instance of the Employee class; for example the `self.first` variable.."
   ]
  },
  {
   "cell_type": "code",
   "execution_count": 11,
   "id": "3d8f4749",
   "metadata": {},
   "outputs": [
    {
     "name": "stdout",
     "output_type": "stream",
     "text": [
      "first : Jim\n",
      "last : Smith\n",
      "email : John.Smith@email.com\n",
      "fullname : Jim, Smith\n"
     ]
    }
   ],
   "source": [
    "# change the first name;\n",
    "emp_1.first = 'Jim'\n",
    "check(emp_1)\n",
    "\n",
    "## Note that the email attribute has not been updated in the instance,\n",
    "# as it was defined in the __init__ call when the instance was created"
   ]
  },
  {
   "cell_type": "markdown",
   "id": "15918d44",
   "metadata": {},
   "source": [
    "We see that the email address has not been updated. We noticed it was a naive 'calculation' during the creation of the object. "
   ]
  },
  {
   "cell_type": "markdown",
   "id": "4819b503",
   "metadata": {},
   "source": [
    "What if we want our attribute to be cogniscent of our instance's `first` and `last` name attributes, instead of setting the 'attribute in the __ init__ method.\n",
    "\n",
    "What if we tried to define the attribute as a function, like the `fullname` method?"
   ]
  },
  {
   "cell_type": "code",
   "execution_count": 12,
   "id": "99de34f7",
   "metadata": {},
   "outputs": [],
   "source": [
    "class Employee:\n",
    "    def __init__(self, first, last):\n",
    "        self.first = first\n",
    "        self.last = last\n",
    "        #\n",
    "        \n",
    "    def fullname(self):\n",
    "        return f'{self.first}, {self.last}'\n",
    "    \n",
    "    # changed `email` to a function, instead of an attribute\n",
    "    # defined in the __init__ method, above.\n",
    "    def email(self):\n",
    "        return f'{self.first}.{self.last}@email.com'\n",
    "    "
   ]
  },
  {
   "cell_type": "code",
   "execution_count": 14,
   "id": "dd492fc5",
   "metadata": {},
   "outputs": [
    {
     "name": "stdout",
     "output_type": "stream",
     "text": [
      "first : John\n",
      "last : Smith\n",
      "email : <bound method Employee.email of <__main__.Employee object at 0x0000020F7634C580>>\n",
      "fullname : John, Smith\n"
     ]
    }
   ],
   "source": [
    "    # create an instance of the basic Employee object\n",
    "emp_1 = Employee('John', 'Smith')\n",
    "check(emp_1)"
   ]
  },
  {
   "cell_type": "markdown",
   "id": "efbb5b27",
   "metadata": {},
   "source": [
    "That didn't work immediately... In order for this strategy (defining the attribute as a function) to work, we would need to change our check function to include `()` at the end of the call."
   ]
  },
  {
   "cell_type": "markdown",
   "id": "90166789",
   "metadata": {},
   "source": [
    "However, every dependency on our class attribute 'email' is now broken. Instead of being an attribute, it now must be referenced as a function...That's not what we want. \n",
    "\n",
    "Let's say we don't want anyone to have to change their code (ie in the `check()` method defined above), but we want the \"`self.email`\" call to update automatically based on the attributes of the instance.\n",
    "\n",
    "We should use the `@property` decorator to let python know this function is going to be used to reference an attribute derived from an instance's other attributes; a 'getter':"
   ]
  },
  {
   "cell_type": "markdown",
   "id": "be0dd6c7",
   "metadata": {},
   "source": [
    "`@property`\n",
    "---"
   ]
  },
  {
   "cell_type": "code",
   "execution_count": 15,
   "id": "0078ea87",
   "metadata": {},
   "outputs": [],
   "source": [
    "class Employee:\n",
    "    def __init__(self, first, last):\n",
    "        self.first = first\n",
    "        self.last = last\n",
    "    \n",
    "     # note the decorator here, as well;\n",
    "    def fullname(self):\n",
    "        return f'{self.first}, {self.last}'\n",
    "    \n",
    "    # added @ property decorator\n",
    "    @property\n",
    "    def email(self):\n",
    "        return f'{self.first}.{self.last}@email.com'\n",
    "    "
   ]
  },
  {
   "cell_type": "code",
   "execution_count": 18,
   "id": "4bead3e6",
   "metadata": {},
   "outputs": [
    {
     "name": "stdout",
     "output_type": "stream",
     "text": [
      "first : John\n",
      "last : Smith\n",
      "email : John.Smith@email.com\n",
      "fullname : John, Smith\n",
      "\n",
      "first : Jim\n",
      "last : Smith\n",
      "email : Jim.Smith@email.com\n",
      "fullname : Jim, Smith\n"
     ]
    }
   ],
   "source": [
    "    # create an instance of the basic Employee object\n",
    "emp_1 = Employee('John', 'Smith')\n",
    "check(emp_1)\n",
    "\n",
    "print()\n",
    "emp_1.first = 'Jim'\n",
    "check(emp_1)"
   ]
  },
  {
   "cell_type": "markdown",
   "id": "ce62e04f",
   "metadata": {},
   "source": [
    "Our initial `check()` function now works again, without any changes. What if we wanted to change the `fullname` attribute, or even better; to have any modifications to 'fullname' affect the 'first' and 'last' name attributes, as well as 'email'?\n",
    "\n",
    "If we try to change the name directly, we run into problems:"
   ]
  },
  {
   "cell_type": "code",
   "execution_count": 20,
   "id": "3892d2c1",
   "metadata": {},
   "outputs": [
    {
     "name": "stdout",
     "output_type": "stream",
     "text": [
      "first : Jim\n",
      "last : Smith\n",
      "email : Jim.Smith@email.com\n"
     ]
    },
    {
     "ename": "TypeError",
     "evalue": "'str' object is not callable",
     "output_type": "error",
     "traceback": [
      "\u001b[1;31m---------------------------------------------------------------------------\u001b[0m",
      "\u001b[1;31mTypeError\u001b[0m                                 Traceback (most recent call last)",
      "\u001b[1;32m~\\AppData\\Local\\Temp/ipykernel_10908/2432008457.py\u001b[0m in \u001b[0;36m<module>\u001b[1;34m\u001b[0m\n\u001b[0;32m      1\u001b[0m \u001b[0memp_1\u001b[0m\u001b[1;33m.\u001b[0m\u001b[0mfullname\u001b[0m \u001b[1;33m=\u001b[0m \u001b[1;34m'Corey Schafer'\u001b[0m\u001b[1;33m\u001b[0m\u001b[1;33m\u001b[0m\u001b[0m\n\u001b[1;32m----> 2\u001b[1;33m \u001b[0mcheck\u001b[0m\u001b[1;33m(\u001b[0m\u001b[0memp_1\u001b[0m\u001b[1;33m)\u001b[0m\u001b[1;33m\u001b[0m\u001b[1;33m\u001b[0m\u001b[0m\n\u001b[0m",
      "\u001b[1;32m~\\AppData\\Local\\Temp/ipykernel_10908/2663580196.py\u001b[0m in \u001b[0;36mcheck\u001b[1;34m(employee)\u001b[0m\n\u001b[0;32m      4\u001b[0m     \u001b[0mprint\u001b[0m\u001b[1;33m(\u001b[0m\u001b[1;34mf'last : {employee.last}'\u001b[0m\u001b[1;33m)\u001b[0m\u001b[1;33m\u001b[0m\u001b[1;33m\u001b[0m\u001b[0m\n\u001b[0;32m      5\u001b[0m     \u001b[0mprint\u001b[0m\u001b[1;33m(\u001b[0m\u001b[1;34mf'email : {employee.email}'\u001b[0m\u001b[1;33m)\u001b[0m\u001b[1;33m\u001b[0m\u001b[1;33m\u001b[0m\u001b[0m\n\u001b[1;32m----> 6\u001b[1;33m     \u001b[0mprint\u001b[0m\u001b[1;33m(\u001b[0m\u001b[1;34mf'fullname : {employee.fullname()}'\u001b[0m\u001b[1;33m)\u001b[0m \u001b[1;31m# notice this is a method call -- a function defined in a class, which calls 'self' as its first argument.\u001b[0m\u001b[1;33m\u001b[0m\u001b[1;33m\u001b[0m\u001b[0m\n\u001b[0m",
      "\u001b[1;31mTypeError\u001b[0m: 'str' object is not callable"
     ]
    }
   ],
   "source": [
    "emp_1.fullname = 'Corey Schafer'\n",
    "check(emp_1)"
   ]
  },
  {
   "cell_type": "markdown",
   "id": "36da09fd",
   "metadata": {},
   "source": [
    "Since `self.fullname` is a function, changing it to a `string` breaks our `check()` function.\n",
    "\n",
    "\n",
    "- A. removing the parentheses from our code, the function `check()`; and\n",
    "\n",
    "- B. adding a @property tag to the `fullname` method, which would make that name (`fullname`) accessible as an attribute, not a method.\n",
    "\n",
    "A good idea here is to use a `setter`. A setter **must be declared** using the following syntax:\n",
    " `@{function call}.setter`; \n",
    " \n",
    " ie. `@fullname.setter`"
   ]
  },
  {
   "cell_type": "markdown",
   "id": "5436f598",
   "metadata": {},
   "source": [
    "`@{property}.setter`\n",
    "---\n",
    "\n",
    "Using the appropriate syntax, we can create logic for how a @property behaves when altered."
   ]
  },
  {
   "cell_type": "code",
   "execution_count": 25,
   "id": "14390d60",
   "metadata": {},
   "outputs": [],
   "source": [
    "class Employee:\n",
    "    def __init__(self, first, last):\n",
    "        self.first = first\n",
    "        self.last = last\n",
    "  \n",
    "    @property\n",
    "    def fullname(self):\n",
    "        return f'{self.first}, {self.last}'\n",
    "    \n",
    "    # 'setter' for the fullname method\n",
    "    @fullname.setter\n",
    "    def fullname(self, name): # calling a setter requires a second argument --> the new value.\n",
    "        # split the new value...\n",
    "        first, last = name.split() \n",
    "        # alter self.first and self.last when changing self.fullname\n",
    "        self.first = first\n",
    "        self.last = last # note that the local scope of this function call\n",
    "                        # allows us to use the same variable names as in the\n",
    "                        # nonlocal scope. \n",
    "                \n",
    "                \n",
    "        \n",
    "    # added @property decorator to email, as well --   \n",
    "    @property\n",
    "    def email(self):\n",
    "        return f'{self.first}.{self.last}@email.com'\n",
    "    \n",
    "    # a setter for the 'email' property would be declared as:\n",
    "    # @email.setter\n",
    "    # def email(self, new_value):\n",
    "        ...\n",
    "  \n",
    "    \n",
    "    # in order for this to work, we have to change the check() function.\n",
    "    # we've added a @property tag to the fullname method, and no longer \n",
    "    # need the parentheses at the end of the call. Let's turn it into a method, included in the class definition;\n",
    "    \n",
    "    \n",
    "    # putting check() in the class definition\n",
    "    def check(self):\n",
    "        print(f'first : {self.first}')\n",
    "        print(f'last : {self.last}')\n",
    "        print(f'email : {self.email}')\n",
    "        print(f'fullname : {self.fullname}') # note that we've removed the parentheses from this line.\n",
    "                                             # the `fullname` attribute is now a property, not a method."
   ]
  },
  {
   "cell_type": "code",
   "execution_count": 27,
   "id": "f096d494",
   "metadata": {
    "scrolled": true
   },
   "outputs": [
    {
     "name": "stdout",
     "output_type": "stream",
     "text": [
      "first : John\n",
      "last : Smith\n",
      "email : John.Smith@email.com\n",
      "fullname : John, Smith\n",
      "\n",
      "first : Corey\n",
      "last : Schafer\n",
      "email : Corey.Schafer@email.com\n",
      "fullname : Corey, Schafer\n"
     ]
    }
   ],
   "source": [
    "# create an instance of the basic Employee object\n",
    "emp_1 = Employee('John', 'Smith')\n",
    "emp_1.check()\n",
    "print()\n",
    "emp_1.fullname = 'Corey Schafer'\n",
    "emp_1.check()"
   ]
  },
  {
   "cell_type": "markdown",
   "id": "47b65569",
   "metadata": {},
   "source": [
    "By creating `@fullname.setter`, we can now maintain the integrity of our object on multiple fronts.\n",
    "\n",
    "We put logic in that setter to alter the `self.first` and `self.last` attributes."
   ]
  },
  {
   "cell_type": "markdown",
   "id": "c0506eac",
   "metadata": {},
   "source": [
    "`@{property}.deleter`\n",
    "---\n",
    "\n",
    "\n",
    "\n",
    "We've looked at using `@property` to define a getter, and then how to create a setter function.\n",
    "\n",
    "Finally, by using a decorator to define a `deleter`, we can alter how our class behaves when a `@property` is deleted."
   ]
  },
  {
   "cell_type": "code",
   "execution_count": 33,
   "id": "7065614b",
   "metadata": {},
   "outputs": [],
   "source": [
    "class Employee:\n",
    "    def __init__(self, first, last):\n",
    "        self.first = first\n",
    "        self.last = last\n",
    "\n",
    "    @property\n",
    "    def email(self):\n",
    "        return f'{self.first}.{self.last}@email.com'\n",
    "\n",
    "    @property\n",
    "    def fullname(self):\n",
    "        return f'{self.first}, {self.last}'\n",
    "    \n",
    "    @fullname.setter\n",
    "    def fullname(self, name):\n",
    "        first, last = name.split()\n",
    "        self.first = first\n",
    "        self.last = last\n",
    "    \n",
    "    @fullname.deleter\n",
    "    def fullname(self):\n",
    "        print(f'Deleted fullname {self.fullname}!')  \n",
    "        self.first = None\n",
    "        self.last = None\n",
    "        \n",
    "        \n",
    "\n",
    "    def check(self):\n",
    "        print(f'first : {self.first}')\n",
    "        print(f'last : {self.last}')\n",
    "        print(f'email : {self.email}')\n",
    "        print(f'fullname : {self.fullname}')"
   ]
  },
  {
   "cell_type": "code",
   "execution_count": 34,
   "id": "44a8a610",
   "metadata": {},
   "outputs": [
    {
     "name": "stdout",
     "output_type": "stream",
     "text": [
      "first : John\n",
      "last : Smith\n",
      "email : John.Smith@email.com\n",
      "fullname : John, Smith\n"
     ]
    }
   ],
   "source": [
    "emp_1 = Employee('John', 'Smith')\n",
    "emp_1.check()"
   ]
  },
  {
   "cell_type": "code",
   "execution_count": 35,
   "id": "f5f558e7",
   "metadata": {
    "scrolled": true
   },
   "outputs": [
    {
     "name": "stdout",
     "output_type": "stream",
     "text": [
      "Deleted fullname John, Smith!\n",
      "\n",
      "first : None\n",
      "last : None\n",
      "email : None.None@email.com\n",
      "fullname : None, None\n"
     ]
    }
   ],
   "source": [
    "del emp_1.fullname\n",
    "print()\n",
    "emp_1.check()"
   ]
  },
  {
   "cell_type": "markdown",
   "id": "5ebcedc1",
   "metadata": {},
   "source": [
    "We see that the code from our `@fullname.deleter` method has been executed, from the printed statement. Our `emp_1` object no longer has 'first' or 'last' names, due to the process of the deleter function, which assigns those bound attributes to None. \n",
    "\n",
    "When the `@property` `self.fullname` is called, it is calculated using the *underlying* attributes `self.first` and `self.last`, which have now been set to `None`. "
   ]
  },
  {
   "cell_type": "markdown",
   "id": "3df57060",
   "metadata": {},
   "source": [
    "---"
   ]
  }
 ],
 "metadata": {
  "kernelspec": {
   "display_name": "Python 3 (ipykernel)",
   "language": "python",
   "name": "python3"
  },
  "language_info": {
   "codemirror_mode": {
    "name": "ipython",
    "version": 3
   },
   "file_extension": ".py",
   "mimetype": "text/x-python",
   "name": "python",
   "nbconvert_exporter": "python",
   "pygments_lexer": "ipython3",
   "version": "3.9.7"
  },
  "toc": {
   "base_numbering": 1,
   "nav_menu": {},
   "number_sections": true,
   "sideBar": true,
   "skip_h1_title": false,
   "title_cell": "Table of Contents",
   "title_sidebar": "Contents",
   "toc_cell": false,
   "toc_position": {},
   "toc_section_display": true,
   "toc_window_display": false
  },
  "varInspector": {
   "cols": {
    "lenName": 16,
    "lenType": 16,
    "lenVar": 40
   },
   "kernels_config": {
    "python": {
     "delete_cmd_postfix": "",
     "delete_cmd_prefix": "del ",
     "library": "var_list.py",
     "varRefreshCmd": "print(var_dic_list())"
    },
    "r": {
     "delete_cmd_postfix": ") ",
     "delete_cmd_prefix": "rm(",
     "library": "var_list.r",
     "varRefreshCmd": "cat(var_dic_list()) "
    }
   },
   "types_to_exclude": [
    "module",
    "function",
    "builtin_function_or_method",
    "instance",
    "_Feature"
   ],
   "window_display": false
  }
 },
 "nbformat": 4,
 "nbformat_minor": 5
}
