{
 "cells": [
  {
   "cell_type": "markdown",
   "id": "98845656",
   "metadata": {},
   "source": [
    "from \n",
    "[https://www.w3resource.com/python-exercises/python-functions-exercises.php\n",
    "](https://www.w3resource.com/python-exercises/python-functions-exercises.php)\n"
   ]
  },
  {
   "cell_type": "code",
   "execution_count": 15,
   "id": "eb64b18b",
   "metadata": {},
   "outputs": [],
   "source": [
    "# sample data\n",
    "lst = [1,2,3,4,5]\n",
    "seq = 'abcdefghi'"
   ]
  },
  {
   "cell_type": "markdown",
   "id": "edcba9dd",
   "metadata": {},
   "source": [
    "1. Write a Python function to find the Max of three numbers. "
   ]
  },
  {
   "cell_type": "code",
   "execution_count": 16,
   "id": "09859dc1",
   "metadata": {},
   "outputs": [
    {
     "data": {
      "text/plain": [
       "5"
      ]
     },
     "execution_count": 16,
     "metadata": {},
     "output_type": "execute_result"
    }
   ],
   "source": [
    "def max_3(lst:list):\n",
    "    #assert len(lst) == 3, 'only accepts lists with 3 values'\n",
    "    mymax = lst[0]\n",
    "    for x in lst:\n",
    "        if x > mymax:\n",
    "            mymax=x\n",
    "    return mymax\n",
    "\n",
    "\n",
    "max_3(lst)\n",
    "    "
   ]
  },
  {
   "cell_type": "markdown",
   "id": "f473fd3a",
   "metadata": {},
   "source": [
    "2. Write a Python function to sum all the numbers in a list."
   ]
  },
  {
   "cell_type": "code",
   "execution_count": 3,
   "id": "98343420",
   "metadata": {},
   "outputs": [
    {
     "data": {
      "text/plain": [
       "15"
      ]
     },
     "execution_count": 3,
     "metadata": {},
     "output_type": "execute_result"
    }
   ],
   "source": [
    "def sum_list(lst):\n",
    "    sumlist = 0\n",
    "    for idx, x in enumerate(lst):\n",
    "        assert isinstance(x, (int, float)), f'element at index {idx} is not a number!'\n",
    "        \n",
    "        sumlist += x\n",
    "    return sumlist\n",
    "\n",
    "sum_list(lst)"
   ]
  },
  {
   "cell_type": "markdown",
   "id": "1860ee3d",
   "metadata": {},
   "source": [
    "3. Write a Python function to multiply all the numbers in a list."
   ]
  },
  {
   "cell_type": "code",
   "execution_count": 4,
   "id": "75921510",
   "metadata": {},
   "outputs": [
    {
     "data": {
      "text/plain": [
       "120"
      ]
     },
     "execution_count": 4,
     "metadata": {},
     "output_type": "execute_result"
    }
   ],
   "source": [
    "def mult_list(lst):\n",
    "    multlist = 1\n",
    "    for idx, x in enumerate(lst):\n",
    "        assert isinstance(x, (int, float)), f'element at index {idx} is not a number!'\n",
    "\n",
    "        multlist *= x\n",
    "    return multlist\n",
    "\n",
    "mult_list(lst)"
   ]
  },
  {
   "cell_type": "markdown",
   "id": "89b0d888",
   "metadata": {},
   "source": [
    "4. Write a Python program to reverse a string."
   ]
  },
  {
   "cell_type": "code",
   "execution_count": 5,
   "id": "d88f0678",
   "metadata": {},
   "outputs": [
    {
     "data": {
      "text/plain": [
       "'ihgfedcba'"
      ]
     },
     "execution_count": 5,
     "metadata": {},
     "output_type": "execute_result"
    }
   ],
   "source": [
    "\"\".join(list(reversed(seq)))"
   ]
  },
  {
   "cell_type": "code",
   "execution_count": 6,
   "id": "212496c5",
   "metadata": {},
   "outputs": [
    {
     "data": {
      "text/plain": [
       "'ihgfedcba'"
      ]
     },
     "execution_count": 6,
     "metadata": {},
     "output_type": "execute_result"
    }
   ],
   "source": [
    "def reverse_string(seq):\n",
    "#     output = ''\n",
    "#     for char in string[::-1]:\n",
    "#         output += char\n",
    "    \n",
    "    output = \"\".join([char for char in seq[::-1]])\n",
    "        \n",
    "    return output\n",
    "\n",
    "reverse_string(seq)"
   ]
  },
  {
   "cell_type": "markdown",
   "id": "ed9dd180",
   "metadata": {},
   "source": [
    "5. Write a Python function to calculate the factorial of a number (a non-negative integer). The function accepts the number as an argument."
   ]
  },
  {
   "cell_type": "code",
   "execution_count": 7,
   "id": "acaac0fb",
   "metadata": {},
   "outputs": [
    {
     "data": {
      "text/plain": [
       "87178291200"
      ]
     },
     "execution_count": 7,
     "metadata": {},
     "output_type": "execute_result"
    }
   ],
   "source": [
    "def factorial(n):\n",
    "    '''For example, the factorial of 4 is 4×3×2×1, which is equal to 24.'''\n",
    "    current = n\n",
    "#     print(current)\n",
    "    for i in range(1, n)[::-1]: # 0-indexing means we start at n-1\n",
    "#         print(i)\n",
    "        current *= i \n",
    "    return current\n",
    "\n",
    "factorial(14)"
   ]
  },
  {
   "cell_type": "markdown",
   "id": "6af52ad2",
   "metadata": {},
   "source": [
    "6. Write a Python function to check whether a number falls in a given range."
   ]
  },
  {
   "cell_type": "code",
   "execution_count": 8,
   "id": "28f3c3ba",
   "metadata": {},
   "outputs": [
    {
     "data": {
      "text/plain": [
       "True"
      ]
     },
     "execution_count": 8,
     "metadata": {},
     "output_type": "execute_result"
    }
   ],
   "source": [
    "def in_range(low_bound:int, n:int, high_bound:int, include_low=False, include_high=False):\n",
    "    '''note that n is the middle of 3 (integer) arguments'''\n",
    "    if include_low==True:\n",
    "        low_bound = low_bound - 1\n",
    "        \n",
    "    if include_high==True:\n",
    "        high_bound = high_bound + 1\n",
    "        \n",
    "    if low_bound < n < high_bound:\n",
    "        return True\n",
    "    \n",
    "    return False\n",
    "# in_range(10, 15, 15)\n",
    "in_range(10, 15, 15, include_high=True)"
   ]
  },
  {
   "cell_type": "markdown",
   "id": "44734133",
   "metadata": {},
   "source": [
    "7. Write a Python function that accepts a string and calculate the number of upper case letters and lower case letters. Go to the editor\n",
    "Sample String : 'The quick Brow Fox'\n",
    "Expected Output :\n",
    "No. of Upper case characters : 3\n",
    "No. of Lower case Characters : 12"
   ]
  },
  {
   "cell_type": "code",
   "execution_count": 9,
   "id": "7e729dab",
   "metadata": {},
   "outputs": [
    {
     "name": "stdout",
     "output_type": "stream",
     "text": [
      "uppercase , lowercase\n"
     ]
    },
    {
     "data": {
      "text/plain": [
       "(3, 12)"
      ]
     },
     "execution_count": 9,
     "metadata": {},
     "output_type": "execute_result"
    }
   ],
   "source": [
    "def count_case(seq):\n",
    "    uppers = []\n",
    "    lowers = []\n",
    "    for char in seq:\n",
    "#         assert char.isalpha(), f'character at {string.index(char)} is not a letter!'\n",
    "        if char.isalpha():\n",
    "            if char.isupper():\n",
    "                uppers.append(char)\n",
    "            elif char.islower():\n",
    "                lowers.append(char)\n",
    "        pass\n",
    "    print(f'uppercase , lowercase')\n",
    "    return (len(uppers), len(lowers))\n",
    "count_case('The quick Brow Fox')    "
   ]
  },
  {
   "cell_type": "markdown",
   "id": "0175d031",
   "metadata": {},
   "source": [
    "8. Write a Python function that takes a list and returns a new list with unique elements of the first list. Go to the editor\n",
    "Sample List : [1,2,3,3,3,3,4,5]\n",
    "Unique List : [1, 2, 3, 4, 5]"
   ]
  },
  {
   "cell_type": "code",
   "execution_count": 10,
   "id": "e9c3e7b5",
   "metadata": {},
   "outputs": [
    {
     "data": {
      "text/plain": [
       "{1, 2, 3, 4, 5}"
      ]
     },
     "execution_count": 10,
     "metadata": {},
     "output_type": "execute_result"
    }
   ],
   "source": [
    "def make_set(lst):\n",
    "    return set(lst)\n",
    "test= [1,2,3,3,3,3,4,5]\n",
    "make_set(test)"
   ]
  },
  {
   "cell_type": "markdown",
   "id": "d1791d7f",
   "metadata": {},
   "source": [
    "9. Write a Python function that takes a number as a parameter and check the number is prime or not."
   ]
  },
  {
   "cell_type": "code",
   "execution_count": 11,
   "id": "c6842f8f",
   "metadata": {},
   "outputs": [],
   "source": [
    "def check_prime(n, cache=dict()):\n",
    "    for i in range(2, n):\n",
    "        if n % i == 0:\n",
    "            cache[n] = False\n",
    "            print(f'{n} is divisible by {i}')\n",
    "            return cache\n",
    "\n",
    "    cache[n] = True\n",
    "    print(f'{n} is a prime number!')\n",
    "    return cache"
   ]
  },
  {
   "cell_type": "markdown",
   "id": "e43a4326",
   "metadata": {},
   "source": [
    "10. Write a Python program to print the even numbers from a given list. Go to the editor\n",
    "Sample List : [1, 2, 3, 4, 5, 6, 7, 8, 9]\n",
    "Expected Result : [2, 4, 6, 8]"
   ]
  },
  {
   "cell_type": "code",
   "execution_count": 12,
   "id": "ba8e2cc5",
   "metadata": {},
   "outputs": [
    {
     "name": "stdout",
     "output_type": "stream",
     "text": [
      "[1, 2, 3, 4, 5]\n"
     ]
    },
    {
     "data": {
      "text/plain": [
       "[2, 4]"
      ]
     },
     "execution_count": 12,
     "metadata": {},
     "output_type": "execute_result"
    }
   ],
   "source": [
    "def print_evens(lst):\n",
    "    evens = []\n",
    "    lst = [x for x in lst if isinstance(x, int)]\n",
    "    for char in lst:\n",
    "        if char % 2 == 0:\n",
    "            evens.append(char)\n",
    "    return evens\n",
    "\n",
    "print(lst)\n",
    "print_evens(lst)"
   ]
  },
  {
   "cell_type": "markdown",
   "id": "232cd305",
   "metadata": {},
   "source": [
    "11. Write a Python function to check whether a number is perfect or not. \n",
    "According to Wikipedia : In number theory, a perfect number is a positive integer that is equal to the sum of its proper positive divisors, that is, the sum of its positive divisors excluding the number itself (also known as its aliquot sum).\n",
    "\n",
    "Equivalently, a perfect number is a number that is half the sum of all of its positive divisors (including itself).\n",
    "Example : The first perfect number is 6, because 1, 2, and 3 are its proper positive divisors, and 1 + 2 + 3 = 6. Equivalently, the number 6 is equal to half the sum of all its positive divisors: ( 1 + 2 + 3 + 6 ) / 2 = 6. The next perfect number is 28 = 1 + 2 + 4 + 7 + 14. This is followed by the perfect numbers 496 and 8128."
   ]
  },
  {
   "cell_type": "code",
   "execution_count": 13,
   "id": "d980972d",
   "metadata": {},
   "outputs": [
    {
     "data": {
      "text/plain": [
       "False"
      ]
     },
     "execution_count": 13,
     "metadata": {},
     "output_type": "execute_result"
    }
   ],
   "source": [
    "def perfect_num(n):\n",
    "    divisorsum = 0\n",
    "    for i in range(1, n):\n",
    "        if n%i == 0:\n",
    "#             print('divisor!', i)\n",
    "            divisorsum += i\n",
    "    \n",
    "    if divisorsum == n:\n",
    "#         print(f'found a perfect number; {n}')\n",
    "        return True\n",
    "    return False\n",
    "perfect_num(495)"
   ]
  },
  {
   "cell_type": "markdown",
   "id": "711a3988",
   "metadata": {},
   "source": [
    "12. Write a Python function that checks whether a passed string is palindrome or not. Go to the editor\n",
    "Note: A palindrome is a word, phrase, or sequence that reads the same backward as forward, e.g., madam or nurses run."
   ]
  },
  {
   "cell_type": "code",
   "execution_count": 14,
   "id": "e258580f",
   "metadata": {},
   "outputs": [
    {
     "data": {
      "text/plain": [
       "True"
      ]
     },
     "execution_count": 14,
     "metadata": {},
     "output_type": "execute_result"
    }
   ],
   "source": [
    "def check_palindrome(seq):\n",
    "    # strip and rebuild the sequence first:\n",
    "    seq = ''.join(seq.split())\n",
    "    \n",
    "    seq = seq.casefold()\n",
    "    half = int(len(seq)//2)\n",
    "    if len(seq) % 2 == 0:\n",
    "#         print(seq[:half], seq[half:])\n",
    "        if seq[:half] == seq[half:][::-1]:\n",
    "            return True\n",
    "    else:\n",
    "        if seq[:half] == seq[half+1:][::-1]: # hacking\n",
    "            return True\n",
    "        \n",
    "    return False\n",
    "check_palindrome('nurses run')"
   ]
  },
  {
   "cell_type": "markdown",
   "id": "e52ac0a8",
   "metadata": {},
   "source": [
    "13. Write a Python function that prints out the first n rows of Pascal's triangle. Go to the editor\n",
    "Note : Pascal's triangle is an arithmetic and geometric figure first imagined by Blaise Pascal.\n",
    "\n",
    "Sample Pascal's triangle :\n",
    "\n",
    "Pascal's triangle\n",
    "Each number is the two numbers above it added together"
   ]
  },
  {
   "cell_type": "code",
   "execution_count": 88,
   "id": "f0634b35",
   "metadata": {},
   "outputs": [
    {
     "name": "stdout",
     "output_type": "stream",
     "text": [
      "[1]\n",
      "[1, 1]\n",
      "[1, 2, 1]\n",
      "[1, 3, 3, 1]\n",
      "[1, 4, 6, 4, 1]\n",
      "[1, 5, 10, 10, 5, 1]\n",
      "[1, 6, 15, 20, 15, 6, 1]\n",
      "[1, 7, 21, 35, 35, 21, 7, 1]\n",
      "[1, 8, 28, 56, 70, 56, 28, 8, 1]\n",
      "[1, 9, 36, 84, 126, 126, 84, 36, 9, 1]\n",
      "[1, 10, 45, 120, 210, 252, 210, 120, 45, 10, 1]\n",
      "[1, 11, 55, 165, 330, 462, 462, 330, 165, 55, 11, 1]\n",
      "[1, 12, 66, 220, 495, 792, 924, 792, 495, 220, 66, 12, 1]\n",
      "[1, 13, 78, 286, 715, 1287, 1716, 1716, 1287, 715, 286, 78, 13, 1]\n",
      "[1, 14, 91, 364, 1001, 2002, 3003, 3432, 3003, 2002, 1001, 364, 91, 14, 1]\n",
      "[1, 15, 105, 455, 1365, 3003, 5005, 6435, 6435, 5005, 3003, 1365, 455, 105, 15, 1]\n",
      "[1, 16, 120, 560, 1820, 4368, 8008, 11440, 12870, 11440, 8008, 4368, 1820, 560, 120, 16, 1]\n",
      "[1, 17, 136, 680, 2380, 6188, 12376, 19448, 24310, 24310, 19448, 12376, 6188, 2380, 680, 136, 17, 1]\n",
      "[1, 18, 153, 816, 3060, 8568, 18564, 31824, 43758, 48620, 43758, 31824, 18564, 8568, 3060, 816, 153, 18, 1]\n",
      "[1, 19, 171, 969, 3876, 11628, 27132, 50388, 75582, 92378, 92378, 75582, 50388, 27132, 11628, 3876, 969, 171, 19, 1]\n",
      "[1, 20, 190, 1140, 4845, 15504, 38760, 77520, 125970, 167960, 184756, 167960, 125970, 77520, 38760, 15504, 4845, 1140, 190, 20, 1]\n"
     ]
    }
   ],
   "source": [
    "def pascal_triangle(n):\n",
    "    import numpy as np\n",
    "    \n",
    "    prev_row = np.array([1])\n",
    "    \n",
    "    for i in range(n):\n",
    "        new_row = prev_row.copy()\n",
    "#         print(new_row, prev_row)\n",
    "        \n",
    "        new_row = np.append(new_row, 0)\n",
    "        prev_row = np.insert(prev_row, 0, 0)\n",
    "#         print(new_row, prev_row)\n",
    "        \n",
    "        prev_row = prev_row + new_row\n",
    "\n",
    "    return list(prev_row)\n",
    "\n",
    "for i in range(21):\n",
    "    print(pascal_triangle(i))"
   ]
  },
  {
   "cell_type": "markdown",
   "id": "d9fc6933",
   "metadata": {},
   "source": [
    "14. Write a Python function to check whether a string is a pangram or not. Go to the editor\n",
    "Note : Pangrams are words or sentences containing every letter of the alphabet at least once.\n",
    "For example : \"The quick brown fox jumps over the lazy dog\""
   ]
  },
  {
   "cell_type": "code",
   "execution_count": 1,
   "id": "7c1a58e0",
   "metadata": {},
   "outputs": [
    {
     "data": {
      "text/plain": [
       "True"
      ]
     },
     "execution_count": 1,
     "metadata": {},
     "output_type": "execute_result"
    }
   ],
   "source": [
    "import string\n",
    "allchars = string.ascii_lowercase.casefold()\n",
    "\n",
    "def is_pangram(seq):\n",
    "    allchars = string.ascii_letters.casefold()\n",
    "    letters = ''.join(seq.split()).casefold()\n",
    "    result = set(allchars) - set(letters)\n",
    "\n",
    "    if len(result) == 0:\n",
    "        return True\n",
    "    return False\n",
    "\n",
    "is_pangram(\"The quick brown fox jumps over the lazy dog woogly1234anfbsiule!@#!$%@|\")"
   ]
  },
  {
   "cell_type": "markdown",
   "id": "fb60c98e",
   "metadata": {},
   "source": [
    "15. Write a Python program that accepts a hyphen-separated sequence of words as input and prints the words in a hyphen-separated sequence after sorting them alphabetically. Go to the editor\n",
    "Sample Items : green-red-yellow-black-white\n",
    "Expected Result : black-green-red-white-yellow"
   ]
  },
  {
   "cell_type": "code",
   "execution_count": 95,
   "id": "e4091e35",
   "metadata": {},
   "outputs": [
    {
     "data": {
      "text/plain": [
       "'black-green-red-white-yellow'"
      ]
     },
     "execution_count": 95,
     "metadata": {},
     "output_type": "execute_result"
    }
   ],
   "source": [
    "def split_hyphens(seq):\n",
    "    lst = seq.split('-')\n",
    "    lst = sorted(lst)\n",
    "    out = '-'.join([x for x in lst])\n",
    "    return out\n",
    "test = 'the-rain-soaked-dog-ran-against-xenon'\n",
    "test2 = 'green-red-yellow-black-white'\n",
    "split_hyphens(test2)"
   ]
  },
  {
   "cell_type": "markdown",
   "id": "d8d28acc",
   "metadata": {},
   "source": [
    "16. Write a Python function to create and print a list where the values are square of numbers between 1 and 30 (both included)."
   ]
  },
  {
   "cell_type": "code",
   "execution_count": 14,
   "id": "46f46df3",
   "metadata": {},
   "outputs": [
    {
     "data": {
      "text/plain": [
       "30"
      ]
     },
     "execution_count": 14,
     "metadata": {},
     "output_type": "execute_result"
    }
   ],
   "source": [
    "def square_range(low, high):\n",
    "#     lst = [(x, x**2 )for x in range(1, 31)] # returning a list of tuples currently for clarity;\n",
    "    lst = [x**2 for x in range(low, high)]\n",
    "    return lst\n",
    "len(square_range(1, 31))"
   ]
  },
  {
   "cell_type": "markdown",
   "id": "72d43cc8",
   "metadata": {},
   "source": [
    "17. Write a Python program to make a chain of function decorators (bold, italic, underline etc.) in Python. Go to the editor"
   ]
  },
  {
   "cell_type": "code",
   "execution_count": 9,
   "id": "0970a23d",
   "metadata": {},
   "outputs": [
    {
     "name": "stdout",
     "output_type": "stream",
     "text": [
      "<b><i><u> hello world </u></i></b>\n"
     ]
    }
   ],
   "source": [
    "def make_bold(fn):\n",
    "    def wrapped():\n",
    "        return \"<b>\" + fn() + \"</b>\"\n",
    "    return wrapped\n",
    "\n",
    "def make_italic(fn):\n",
    "    def wrapped():\n",
    "        return \"<i>\" + fn() + \"</i>\"\n",
    "    return wrapped\n",
    "\n",
    "def make_underline(fn):\n",
    "    def wrapped():\n",
    "        return \"<u>\" + fn() + \"</u>\"\n",
    "    return wrapped\n",
    "@make_bold\n",
    "@make_italic\n",
    "@make_underline\n",
    "def hello():\n",
    "    return \" hello world \"\n",
    "print(hello()) ## returns \"<b><i><u>hello world</u></i></b>\""
   ]
  },
  {
   "cell_type": "markdown",
   "id": "a539ff52",
   "metadata": {},
   "source": [
    "18. Write a Python program to execute a string containing Python code. Go to the editor"
   ]
  },
  {
   "cell_type": "code",
   "execution_count": 10,
   "id": "66150909",
   "metadata": {},
   "outputs": [
    {
     "name": "stdout",
     "output_type": "stream",
     "text": [
      "hello world\n"
     ]
    }
   ],
   "source": [
    "code_string = \"\"\"\n",
    "print('hello world')\n",
    "\"\"\"\n",
    "exec(code_string)"
   ]
  },
  {
   "cell_type": "markdown",
   "id": "9b74ca0d",
   "metadata": {},
   "source": [
    "19. Write a Python program to access a function inside a function."
   ]
  },
  {
   "cell_type": "code",
   "execution_count": null,
   "id": "17c9c76f",
   "metadata": {},
   "outputs": [],
   "source": [
    "def access_func(func, params):\n",
    "    result = func(params)\n",
    "    return result"
   ]
  },
  {
   "cell_type": "markdown",
   "id": "d9b9e0ea",
   "metadata": {},
   "source": [
    "20. Write a Python program to detect the number of local variables declared in a function."
   ]
  },
  {
   "cell_type": "code",
   "execution_count": 12,
   "id": "d1531d63",
   "metadata": {},
   "outputs": [
    {
     "name": "stdout",
     "output_type": "stream",
     "text": [
      "4\n"
     ]
    }
   ],
   "source": [
    "def func(var1, var2, var3):\n",
    "    var4 = 'd'\n",
    "\n",
    "my_func = func('a', 'b', 'c')\n",
    "\n",
    "print(func.__code__.co_nlocals)"
   ]
  },
  {
   "cell_type": "markdown",
   "id": "d8ac6c7e",
   "metadata": {},
   "source": [
    "21. Write a Python program that invoke a given function after specific milliseconds. Go to the editor"
   ]
  },
  {
   "cell_type": "code",
   "execution_count": 1,
   "id": "d01ebef6",
   "metadata": {},
   "outputs": [
    {
     "name": "stdout",
     "output_type": "stream",
     "text": [
      "0\n",
      "1\n",
      "2\n",
      "3\n",
      "4\n"
     ]
    }
   ],
   "source": [
    "from time import sleep\n",
    "\n",
    "for i in range(1, 6):\n",
    "    sleep(2)\n",
    "    print(i)\n",
    "    "
   ]
  }
 ],
 "metadata": {
  "kernelspec": {
   "display_name": "Python 3 (ipykernel)",
   "language": "python",
   "name": "python3"
  },
  "language_info": {
   "codemirror_mode": {
    "name": "ipython",
    "version": 3
   },
   "file_extension": ".py",
   "mimetype": "text/x-python",
   "name": "python",
   "nbconvert_exporter": "python",
   "pygments_lexer": "ipython3",
   "version": "3.9.9"
  },
  "toc": {
   "base_numbering": 1,
   "nav_menu": {},
   "number_sections": true,
   "sideBar": true,
   "skip_h1_title": false,
   "title_cell": "Table of Contents",
   "title_sidebar": "Contents",
   "toc_cell": false,
   "toc_position": {},
   "toc_section_display": true,
   "toc_window_display": false
  },
  "varInspector": {
   "cols": {
    "lenName": 16,
    "lenType": 16,
    "lenVar": 40
   },
   "kernels_config": {
    "python": {
     "delete_cmd_postfix": "",
     "delete_cmd_prefix": "del ",
     "library": "var_list.py",
     "varRefreshCmd": "print(var_dic_list())"
    },
    "r": {
     "delete_cmd_postfix": ") ",
     "delete_cmd_prefix": "rm(",
     "library": "var_list.r",
     "varRefreshCmd": "cat(var_dic_list()) "
    }
   },
   "types_to_exclude": [
    "module",
    "function",
    "builtin_function_or_method",
    "instance",
    "_Feature"
   ],
   "window_display": false
  }
 },
 "nbformat": 4,
 "nbformat_minor": 5
}
