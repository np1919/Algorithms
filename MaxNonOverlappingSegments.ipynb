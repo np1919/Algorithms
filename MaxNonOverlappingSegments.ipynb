{
 "cells": [
  {
   "cell_type": "markdown",
   "id": "3b234a41",
   "metadata": {},
   "source": [
    "Given the starting and ending indices of lines (given in arrays A and B);\n",
    "\n",
    "How many 'segments' exist, which do not overlap with one another?"
   ]
  },
  {
   "cell_type": "code",
   "execution_count": 30,
   "id": "0c8bb41d",
   "metadata": {},
   "outputs": [
    {
     "data": {
      "text/plain": [
       "3"
      ]
     },
     "execution_count": 30,
     "metadata": {},
     "output_type": "execute_result"
    }
   ],
   "source": [
    "A = [1,3,7,9,9]\n",
    "B = [5,6,8,9,10]\n",
    "\n",
    "def MaxNonOverlappingSegments(A, B):\n",
    "    covered = set()\n",
    "\n",
    "    for a, b in zip(A, B):\n",
    "        myrange = range(a, b)\n",
    "        for x in myrange:\n",
    "            covered.add(x)\n",
    "    \n",
    "    output = sorted(list(covered))\n",
    "    mymax = output[-1]# the last value?\n",
    "    mymin = output[0]\n",
    "    \n",
    "    counter = 0\n",
    "    for i in range(mymin-1, mymax+1): # start before the first value; end after the last;\n",
    "        if i not in covered:\n",
    "            counter += 1\n",
    "        \n",
    "    return counter\n",
    "        \n",
    "\n",
    "MaxNonOverlappingSegments(A, B)"
   ]
  },
  {
   "cell_type": "code",
   "execution_count": null,
   "id": "c49441ac",
   "metadata": {},
   "outputs": [],
   "source": []
  }
 ],
 "metadata": {
  "kernelspec": {
   "display_name": "Python 3 (ipykernel)",
   "language": "python",
   "name": "python3"
  },
  "language_info": {
   "codemirror_mode": {
    "name": "ipython",
    "version": 3
   },
   "file_extension": ".py",
   "mimetype": "text/x-python",
   "name": "python",
   "nbconvert_exporter": "python",
   "pygments_lexer": "ipython3",
   "version": "3.9.7"
  },
  "toc": {
   "base_numbering": 1,
   "nav_menu": {},
   "number_sections": true,
   "sideBar": true,
   "skip_h1_title": false,
   "title_cell": "Table of Contents",
   "title_sidebar": "Contents",
   "toc_cell": false,
   "toc_position": {},
   "toc_section_display": true,
   "toc_window_display": false
  },
  "varInspector": {
   "cols": {
    "lenName": 16,
    "lenType": 16,
    "lenVar": 40
   },
   "kernels_config": {
    "python": {
     "delete_cmd_postfix": "",
     "delete_cmd_prefix": "del ",
     "library": "var_list.py",
     "varRefreshCmd": "print(var_dic_list())"
    },
    "r": {
     "delete_cmd_postfix": ") ",
     "delete_cmd_prefix": "rm(",
     "library": "var_list.r",
     "varRefreshCmd": "cat(var_dic_list()) "
    }
   },
   "types_to_exclude": [
    "module",
    "function",
    "builtin_function_or_method",
    "instance",
    "_Feature"
   ],
   "window_display": false
  }
 },
 "nbformat": 4,
 "nbformat_minor": 5
}
